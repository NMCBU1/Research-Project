{
 "cells": [
  {
   "cell_type": "code",
   "execution_count": 1,
   "metadata": {},
   "outputs": [],
   "source": [
    "from sentiment_analysis_spanish import sentiment_analysis\n",
    "import pandas as pd"
   ]
  },
  {
   "cell_type": "code",
   "execution_count": 2,
   "metadata": {},
   "outputs": [
    {
     "data": {
      "text/html": [
       "<div>\n",
       "<style scoped>\n",
       "    .dataframe tbody tr th:only-of-type {\n",
       "        vertical-align: middle;\n",
       "    }\n",
       "\n",
       "    .dataframe tbody tr th {\n",
       "        vertical-align: top;\n",
       "    }\n",
       "\n",
       "    .dataframe thead th {\n",
       "        text-align: right;\n",
       "    }\n",
       "</style>\n",
       "<table border=\"1\" class=\"dataframe\">\n",
       "  <thead>\n",
       "    <tr style=\"text-align: right;\">\n",
       "      <th></th>\n",
       "      <th>X</th>\n",
       "      <th>date</th>\n",
       "      <th>user</th>\n",
       "      <th>tweets</th>\n",
       "    </tr>\n",
       "  </thead>\n",
       "  <tbody>\n",
       "    <tr>\n",
       "      <th>0</th>\n",
       "      <td>0</td>\n",
       "      <td>2021-07-20 23:59:48</td>\n",
       "      <td>OmarGArciga</td>\n",
       "      <td>baby_manguito hoy hace años decidí dejar la co...</td>\n",
       "    </tr>\n",
       "    <tr>\n",
       "      <th>1</th>\n",
       "      <td>1</td>\n",
       "      <td>2021-07-20 23:59:30</td>\n",
       "      <td>APurBorahe7VTAN</td>\n",
       "      <td>spknwpark jimin y taehyung ecuatorianos por qu...</td>\n",
       "    </tr>\n",
       "    <tr>\n",
       "      <th>2</th>\n",
       "      <td>2</td>\n",
       "      <td>2021-07-20 23:58:31</td>\n",
       "      <td>tereesaaruiz_</td>\n",
       "      <td>frostismg selena gomez x coca cola shidlgezqh</td>\n",
       "    </tr>\n",
       "    <tr>\n",
       "      <th>3</th>\n",
       "      <td>3</td>\n",
       "      <td>2021-07-20 23:58:08</td>\n",
       "      <td>AndreGuida3</td>\n",
       "      <td>damian_marcelo3 comen mc donald y desconfian d...</td>\n",
       "    </tr>\n",
       "    <tr>\n",
       "      <th>4</th>\n",
       "      <td>4</td>\n",
       "      <td>2021-07-20 23:57:57</td>\n",
       "      <td>Alice_Rguez</td>\n",
       "      <td>daniwolv he pensado lo mismo si la hostelería ...</td>\n",
       "    </tr>\n",
       "  </tbody>\n",
       "</table>\n",
       "</div>"
      ],
      "text/plain": [
       "   X                 date             user  \\\n",
       "0  0  2021-07-20 23:59:48      OmarGArciga   \n",
       "1  1  2021-07-20 23:59:30  APurBorahe7VTAN   \n",
       "2  2  2021-07-20 23:58:31    tereesaaruiz_   \n",
       "3  3  2021-07-20 23:58:08      AndreGuida3   \n",
       "4  4  2021-07-20 23:57:57      Alice_Rguez   \n",
       "\n",
       "                                              tweets  \n",
       "0  baby_manguito hoy hace años decidí dejar la co...  \n",
       "1  spknwpark jimin y taehyung ecuatorianos por qu...  \n",
       "2      frostismg selena gomez x coca cola shidlgezqh  \n",
       "3  damian_marcelo3 comen mc donald y desconfian d...  \n",
       "4  daniwolv he pensado lo mismo si la hostelería ...  "
      ]
     },
     "execution_count": 2,
     "metadata": {},
     "output_type": "execute_result"
    }
   ],
   "source": [
    "df = pd.read_csv(\"Clean.csv\")\n",
    "df.head()"
   ]
  },
  {
   "cell_type": "code",
   "execution_count": 3,
   "metadata": {},
   "outputs": [
    {
     "name": "stderr",
     "output_type": "stream",
     "text": [
      "/opt/anaconda3/lib/python3.7/site-packages/sklearn/base.py:318: UserWarning: Trying to unpickle estimator CountVectorizer from version 0.23.2 when using version 0.22.1. This might lead to breaking code or invalid results. Use at your own risk.\n",
      "  UserWarning)\n",
      "/opt/anaconda3/lib/python3.7/site-packages/sklearn/base.py:318: UserWarning: Trying to unpickle estimator MultinomialNB from version 0.23.2 when using version 0.22.1. This might lead to breaking code or invalid results. Use at your own risk.\n",
      "  UserWarning)\n"
     ]
    }
   ],
   "source": [
    "sentiment = sentiment_analysis.SentimentAnalysisSpanish()"
   ]
  },
  {
   "cell_type": "code",
   "execution_count": 4,
   "metadata": {},
   "outputs": [],
   "source": [
    "sentiment_list = []"
   ]
  },
  {
   "cell_type": "code",
   "execution_count": 5,
   "metadata": {},
   "outputs": [],
   "source": [
    "for tweet in df[\"tweets\"]: \n",
    "    sentiment_list.append(sentiment.sentiment(tweet))"
   ]
  },
  {
   "cell_type": "code",
   "execution_count": 6,
   "metadata": {},
   "outputs": [],
   "source": [
    "df[\"sentiment\"] = sentiment_list"
   ]
  },
  {
   "cell_type": "code",
   "execution_count": 7,
   "metadata": {},
   "outputs": [
    {
     "data": {
      "text/html": [
       "<div>\n",
       "<style scoped>\n",
       "    .dataframe tbody tr th:only-of-type {\n",
       "        vertical-align: middle;\n",
       "    }\n",
       "\n",
       "    .dataframe tbody tr th {\n",
       "        vertical-align: top;\n",
       "    }\n",
       "\n",
       "    .dataframe thead th {\n",
       "        text-align: right;\n",
       "    }\n",
       "</style>\n",
       "<table border=\"1\" class=\"dataframe\">\n",
       "  <thead>\n",
       "    <tr style=\"text-align: right;\">\n",
       "      <th></th>\n",
       "      <th>X</th>\n",
       "      <th>date</th>\n",
       "      <th>user</th>\n",
       "      <th>tweets</th>\n",
       "      <th>sentiment</th>\n",
       "    </tr>\n",
       "  </thead>\n",
       "  <tbody>\n",
       "    <tr>\n",
       "      <th>0</th>\n",
       "      <td>0</td>\n",
       "      <td>2021-07-20 23:59:48</td>\n",
       "      <td>OmarGArciga</td>\n",
       "      <td>baby_manguito hoy hace años decidí dejar la co...</td>\n",
       "      <td>8.879421e-08</td>\n",
       "    </tr>\n",
       "    <tr>\n",
       "      <th>1</th>\n",
       "      <td>1</td>\n",
       "      <td>2021-07-20 23:59:30</td>\n",
       "      <td>APurBorahe7VTAN</td>\n",
       "      <td>spknwpark jimin y taehyung ecuatorianos por qu...</td>\n",
       "      <td>2.251960e-07</td>\n",
       "    </tr>\n",
       "    <tr>\n",
       "      <th>2</th>\n",
       "      <td>2</td>\n",
       "      <td>2021-07-20 23:58:31</td>\n",
       "      <td>tereesaaruiz_</td>\n",
       "      <td>frostismg selena gomez x coca cola shidlgezqh</td>\n",
       "      <td>1.047667e-01</td>\n",
       "    </tr>\n",
       "    <tr>\n",
       "      <th>3</th>\n",
       "      <td>3</td>\n",
       "      <td>2021-07-20 23:58:08</td>\n",
       "      <td>AndreGuida3</td>\n",
       "      <td>damian_marcelo3 comen mc donald y desconfian d...</td>\n",
       "      <td>9.261075e-02</td>\n",
       "    </tr>\n",
       "    <tr>\n",
       "      <th>4</th>\n",
       "      <td>4</td>\n",
       "      <td>2021-07-20 23:57:57</td>\n",
       "      <td>Alice_Rguez</td>\n",
       "      <td>daniwolv he pensado lo mismo si la hostelería ...</td>\n",
       "      <td>2.547775e-08</td>\n",
       "    </tr>\n",
       "    <tr>\n",
       "      <th>...</th>\n",
       "      <td>...</td>\n",
       "      <td>...</td>\n",
       "      <td>...</td>\n",
       "      <td>...</td>\n",
       "      <td>...</td>\n",
       "    </tr>\n",
       "    <tr>\n",
       "      <th>1995</th>\n",
       "      <td>1995</td>\n",
       "      <td>2021-07-20 13:52:38</td>\n",
       "      <td>GastonRibba</td>\n",
       "      <td>excangallo un respeto con el decano de la pren...</td>\n",
       "      <td>2.326869e-04</td>\n",
       "    </tr>\n",
       "    <tr>\n",
       "      <th>1996</th>\n",
       "      <td>1996</td>\n",
       "      <td>2021-07-20 13:52:22</td>\n",
       "      <td>nereaabulness</td>\n",
       "      <td>aliicia_30 la coca cola está asquerosa venid a...</td>\n",
       "      <td>1.903931e-02</td>\n",
       "    </tr>\n",
       "    <tr>\n",
       "      <th>1997</th>\n",
       "      <td>1997</td>\n",
       "      <td>2021-07-20 13:51:27</td>\n",
       "      <td>orion_cazaraton</td>\n",
       "      <td>aurorasolar_ cuando chico fui a la fábrica de ...</td>\n",
       "      <td>6.695577e-06</td>\n",
       "    </tr>\n",
       "    <tr>\n",
       "      <th>1998</th>\n",
       "      <td>1998</td>\n",
       "      <td>2021-07-20 13:50:57</td>\n",
       "      <td>TeamSanta_SRdL</td>\n",
       "      <td>elmismo_gory dee_n_jp zeladawilber arpaksadara...</td>\n",
       "      <td>2.099383e-05</td>\n",
       "    </tr>\n",
       "    <tr>\n",
       "      <th>1999</th>\n",
       "      <td>1999</td>\n",
       "      <td>2021-07-20 13:50:46</td>\n",
       "      <td>AndRivasC</td>\n",
       "      <td>cuando tuve que dejar la coca cola p0dzo8d2a8</td>\n",
       "      <td>4.184680e-04</td>\n",
       "    </tr>\n",
       "  </tbody>\n",
       "</table>\n",
       "<p>2000 rows × 5 columns</p>\n",
       "</div>"
      ],
      "text/plain": [
       "         X                 date             user  \\\n",
       "0        0  2021-07-20 23:59:48      OmarGArciga   \n",
       "1        1  2021-07-20 23:59:30  APurBorahe7VTAN   \n",
       "2        2  2021-07-20 23:58:31    tereesaaruiz_   \n",
       "3        3  2021-07-20 23:58:08      AndreGuida3   \n",
       "4        4  2021-07-20 23:57:57      Alice_Rguez   \n",
       "...    ...                  ...              ...   \n",
       "1995  1995  2021-07-20 13:52:38      GastonRibba   \n",
       "1996  1996  2021-07-20 13:52:22    nereaabulness   \n",
       "1997  1997  2021-07-20 13:51:27  orion_cazaraton   \n",
       "1998  1998  2021-07-20 13:50:57   TeamSanta_SRdL   \n",
       "1999  1999  2021-07-20 13:50:46        AndRivasC   \n",
       "\n",
       "                                                 tweets     sentiment  \n",
       "0     baby_manguito hoy hace años decidí dejar la co...  8.879421e-08  \n",
       "1     spknwpark jimin y taehyung ecuatorianos por qu...  2.251960e-07  \n",
       "2         frostismg selena gomez x coca cola shidlgezqh  1.047667e-01  \n",
       "3     damian_marcelo3 comen mc donald y desconfian d...  9.261075e-02  \n",
       "4     daniwolv he pensado lo mismo si la hostelería ...  2.547775e-08  \n",
       "...                                                 ...           ...  \n",
       "1995  excangallo un respeto con el decano de la pren...  2.326869e-04  \n",
       "1996  aliicia_30 la coca cola está asquerosa venid a...  1.903931e-02  \n",
       "1997  aurorasolar_ cuando chico fui a la fábrica de ...  6.695577e-06  \n",
       "1998  elmismo_gory dee_n_jp zeladawilber arpaksadara...  2.099383e-05  \n",
       "1999      cuando tuve que dejar la coca cola p0dzo8d2a8  4.184680e-04  \n",
       "\n",
       "[2000 rows x 5 columns]"
      ]
     },
     "execution_count": 7,
     "metadata": {},
     "output_type": "execute_result"
    }
   ],
   "source": [
    "df"
   ]
  },
  {
   "cell_type": "code",
   "execution_count": 8,
   "metadata": {},
   "outputs": [],
   "source": [
    "df.to_csv(\"final.csv\", index = False)"
   ]
  },
  {
   "cell_type": "code",
   "execution_count": 14,
   "metadata": {},
   "outputs": [
    {
     "data": {
      "text/plain": [
       "0.9886005113096494"
      ]
     },
     "execution_count": 14,
     "metadata": {},
     "output_type": "execute_result"
    }
   ],
   "source": [
    "sentiment.sentiment(\"@james es el mejor jugador en la selección\")"
   ]
  },
  {
   "cell_type": "code",
   "execution_count": 15,
   "metadata": {},
   "outputs": [
    {
     "data": {
      "text/plain": [
       "0.8437073391002468"
      ]
     },
     "execution_count": 15,
     "metadata": {},
     "output_type": "execute_result"
    }
   ],
   "source": [
    "sentiment.sentiment(\"@james mejor jugador selección\")"
   ]
  },
  {
   "cell_type": "code",
   "execution_count": 16,
   "metadata": {},
   "outputs": [
    {
     "data": {
      "text/plain": [
       "0.0001855401116870574"
      ]
     },
     "execution_count": 16,
     "metadata": {},
     "output_type": "execute_result"
    }
   ],
   "source": [
    "sentiment.sentiment(\"@james es el peor jugador en la selección\")"
   ]
  },
  {
   "cell_type": "code",
   "execution_count": null,
   "metadata": {},
   "outputs": [],
   "source": []
  }
 ],
 "metadata": {
  "kernelspec": {
   "display_name": "Python 3",
   "language": "python",
   "name": "python3"
  },
  "language_info": {
   "codemirror_mode": {
    "name": "ipython",
    "version": 3
   },
   "file_extension": ".py",
   "mimetype": "text/x-python",
   "name": "python",
   "nbconvert_exporter": "python",
   "pygments_lexer": "ipython3",
   "version": "3.7.6"
  }
 },
 "nbformat": 4,
 "nbformat_minor": 4
}
